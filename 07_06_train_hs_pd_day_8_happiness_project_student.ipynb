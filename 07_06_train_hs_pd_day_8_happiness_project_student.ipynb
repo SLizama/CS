{
  "cells": [
    {
      "cell_type": "markdown",
      "metadata": {
        "id": "view-in-github",
        "colab_type": "text"
      },
      "source": [
        "<a href=\"https://colab.research.google.com/github/SLizama/CS/blob/main/07_06_train_hs_pd_day_8_happiness_project_student.ipynb\" target=\"_parent\"><img src=\"https://colab.research.google.com/assets/colab-badge.svg\" alt=\"Open In Colab\"/></a>"
      ]
    },
    {
      "cell_type": "markdown",
      "source": [
        "# **Lab 8: 2015 World Happiness Report Project**\n",
        "---\n",
        "\n",
        "### **Description**\n",
        "In this project, you will use what you have learned so far about the machine learning process, Linear Regression, and KNN to analyze the official 2015 World Happiness Report from the United Nations. In particular, you will explore, wrangle, and visualize this data and then model the Happiness Score and Region of countries based on the variables reported in this dataset.\n",
        "\n",
        "<br>\n",
        "\n",
        "\n",
        "### **Overview**\n",
        "For this project, you are given data collected for the 2015 UN Happiness Report. The 2015 Happiness Report, also known as the World Happiness Report 2015, is a publication that presents rankings of countries based on their levels of happiness and well-being. The report is a collaborative effort between the Sustainable Development Solutions Network (SDSN) and the Earth Institute at Columbia University, with contributions from various researchers and experts.\n",
        "\n",
        "<br>\n",
        "\n",
        "The report includes rankings of 158 countries based on the \"World Happiness Index,\" which is calculated using survey data from the Gallup World Poll and other sources. The index combines factors such as GDP per capita, social support, healthy life expectancy, freedom to make life choices, generosity, and perceptions of corruption to assess overall happiness levels.\n",
        "\n",
        "<br>\n",
        "\n",
        "The 2015 Happiness Report sheds light on the relationship between happiness, well-being, and sustainable development, emphasizing the importance of incorporating measures of happiness into policy-making and development strategies. It provides valuable insights into global happiness levels, highlighting the factors that contribute to happiness and offering recommendations for policymakers and individuals to improve overall well-being.\n",
        "\n",
        "<br>\n",
        "\n",
        " Everything you need is provided below. But, if you are curious to learn more the [official source can be found here](https://worldhappiness.report/ed/2015/#appendices-and-data). Here is a list of variables for your reference:\n",
        "\n",
        "* `Country`: The country that the data corresponds to.\n",
        "\n",
        "* `Region`: The region that this country is classified as belong to.\n",
        "\n",
        "* `Happiness Score`: A metric measured in 2015 by asking the sampled people the question: \"How would you rate your happiness on a scale of 0 to 10 where 10 is the happiest.\"\n",
        "\n",
        "* `GDP`: The extent to which GDP contributes to the calculation of the Happiness Score.\n",
        "\n",
        "* `Social Support`: The extent to which Family contributes to the calculation of the Happiness Score\n",
        "\n",
        "* `Health Life Expectancy`: The extent to which Life expectancy contributed to the calculation of the Happiness Score\n",
        "\n",
        "* `Freedom`: The extent to which Freedom contributed to the calculation of the Happiness Score.\n",
        "\n",
        "* `Corruption Perception`: The extent to which Perception of Corruption contributes to Happiness Score.\n",
        "\n",
        "* `Generosity`: A model of the national average of response to the question “Have you donated money to a charity in the past month?” on GDP per\n",
        "capita.\n",
        "\n",
        "**NOTE**: All numerical variables except `Happiness Score` have already been standardized.\n",
        "\n",
        "<br>\n",
        "\n",
        "### **Key questions to answer**\n",
        "1. How do these variables, such as `Generosity` or `Freedom`, influence a country's `Happiness Score`?\n",
        "\n",
        "2. In 2015, which nation had the highest `Happiness Score`? Which nation had the lowest `Happiness Score`?\n",
        "\n",
        "2. What patterns can be observed visually? What patterns can be observed with deeper data exploration?\n",
        "\n",
        "3. Is Linear Regression or KNN better suited to this task of predicting Happiness Score or Region and why?\n",
        "\n",
        "4. What is the best value of K for any case where you used KNN?\n",
        "\n",
        "5. What role did feature selection play in the performance of models for both cases?\n",
        "\n",
        "6. What variables play the largest role in predicting Happiness Score or Region?\n",
        "\n",
        "<br>\n",
        "\n",
        "### **Lab Structure**\n",
        "**Part 1**:  [Data Exploration, Wrangling, and Visualization](#p1)\n",
        "\n",
        "**Part 2**:  [Predicting Happiness Score](#p2)\n",
        "\n",
        "> **Part 2.1**: [Using All Numerical Features](#p21)\n",
        ">\n",
        "> **Part 2.2**: [Using the 3 Best Numerical Features](#p22)\n",
        ">\n",
        ">\n",
        ">\n",
        "\n",
        "**Part 3**: [Predicting Region](#p3)\n",
        "\n",
        "> **Part 3.1**: [Using All Numerical Features](#p31)\n",
        ">\n",
        "> **Part 3.2**: [Using the 2 Best Numerical Features](#p32)\n",
        ">\n",
        ">\n",
        ">\n",
        "\n",
        "</br>\n",
        "\n",
        "### **Goals**\n",
        "**By the end of this project, you will have:**\n",
        "1. Cleaned, explored, and visualized this dataset.\n",
        "2. Engineered a new feature and modeled it.\n",
        "3. Decided when to use Linear Regression or KNN for different tasks.\n",
        "4. Modeled several different variables and analyzed the results.\n",
        "\n",
        "<br>\n",
        "\n",
        "\n",
        "### **Cheat Sheets**\n",
        "\n",
        "* [Python Basics](https://docs.google.com/document/d/1sbDvZXxqkqvaxEj7WM_nfhTI3q5Yut-9dz0IxEta-VA/edit?usp=drive_link)\n",
        "\n",
        "* [EDA with pandas](https://docs.google.com/document/d/1lb58BaUQZi_Y9tvgeGuhmm2_oe88smVbpV9pqb1sFNI/edit?usp=drive_link)\n",
        "\n",
        "* [Data Wrangling with pandas](https://docs.google.com/document/d/1fYANsUd4dKdgGHlAcvaugTihYIP7dku-yqYtjMh95LQ/edit?usp=drive_link)\n",
        "\n",
        "* [Data Visualization with matplotlib](https://docs.google.com/document/d/1n8kwv3ysgSQL7siw8zOo8lvkwSell1LgW82xDIe9bf4/edit?usp=drive_link)\n",
        "\n",
        "* [Linear Regression with sklearn](https://docs.google.com/document/d/1aymYoakMDdvRZJS4-NBCF5D54f4RQlCJFimz8Mf-uJI/edit?usp=drive_link)\n",
        "\n",
        "* [KNN with sklearn](https://docs.google.com/document/d/1bgOWUmWyPcc2rUinRsGNDjE04eQdMPq49PWbCGMOHSw/edit?usp=drive_link)\n",
        "\n",
        "<br>\n",
        "\n",
        "**Run the cell below to import all necessary libraries and functions.**"
      ],
      "metadata": {
        "id": "8Np2oa_ZijMe"
      }
    },
    {
      "cell_type": "code",
      "execution_count": null,
      "metadata": {
        "id": "J697Qi0eizBL"
      },
      "outputs": [],
      "source": [
        "import warnings\n",
        "warnings.filterwarnings('ignore')\n",
        "\n",
        "import numpy as np\n",
        "import pandas as pd\n",
        "import matplotlib.pyplot as plt\n",
        "\n",
        "from sklearn.feature_selection import SelectKBest\n",
        "from sklearn.model_selection import train_test_split\n",
        "from sklearn.metrics import r2_score, mean_squared_error, mean_absolute_error, accuracy_score"
      ]
    },
    {
      "cell_type": "markdown",
      "metadata": {
        "id": "PW6EDtnXdczv"
      },
      "source": [
        "<a name=\"p1\"></a>\n",
        "\n",
        "---\n",
        "## **Part 1: Data Exploration, Wrangling, and Visualization**\n",
        "---\n",
        "\n",
        "In this part, you will load in and explore the dataset for this project. This will involve using functions from pandas as well as reading source material to understand the data that you are working with.\n",
        "\n",
        "**NOTE**: In most real world situations, you will not do data exploration, wrangling, and visualization separately as we have done in the past. As such, you will simply be asked to perform tasks throughout this section without explicitly distinguishing between exploration, wrangling, and visualization.\n",
        "\n",
        "<br>\n",
        "\n",
        "**Run the code below to load in the data.**"
      ]
    },
    {
      "cell_type": "code",
      "source": [
        "url = \"https://docs.google.com/spreadsheets/d/e/2PACX-1vSUoGLZ90Qr6A5-DmdYD30CIEwMqIAmtWSbdcLgi10u5WoCtCuj_RuSm7wDsFsfcwPGRB6ZZDduCxpO/pub?gid=108149846&single=true&output=csv\"\n",
        "\n",
        "happy_df = pd.read_csv(url)\n",
        "happy_df.head()"
      ],
      "metadata": {
        "id": "hRZBMlvDZn5U",
        "colab": {
          "base_uri": "https://localhost:8080/",
          "height": 374
        },
        "outputId": "422e2652-4972-48fa-d4a2-54e0c8618394"
      },
      "execution_count": null,
      "outputs": [
        {
          "output_type": "execute_result",
          "data": {
            "text/plain": [
              "       Country          region  Happiness Score      GDP  Social_support  \\\n",
              "0  Switzerland  Western Europe            7.587  1.39651         1.34951   \n",
              "1      Iceland  Western Europe            7.561  1.30232         1.40223   \n",
              "2      Denmark  Western Europe            7.527  1.32548         1.36058   \n",
              "3       Norway  Western Europe            7.522  1.45900         1.33095   \n",
              "4       Canada   North America            7.427  1.32629         1.32261   \n",
              "\n",
              "   Healthy Life_Expectancy  Freedom  corruptionperception  Generosity  \n",
              "0                  0.94143  0.66557               0.41978     0.29678  \n",
              "1                  0.94784  0.62877               0.14145     0.43630  \n",
              "2                  0.87464  0.64938               0.48357     0.34139  \n",
              "3                  0.88521  0.66973               0.36503     0.34699  \n",
              "4                  0.90563  0.63297               0.32957     0.45811  "
            ],
            "text/html": [
              "\n",
              "  <div id=\"df-0cbd5cd3-3e7d-4eca-bce3-9f85a71f421e\">\n",
              "    <div class=\"colab-df-container\">\n",
              "      <div>\n",
              "<style scoped>\n",
              "    .dataframe tbody tr th:only-of-type {\n",
              "        vertical-align: middle;\n",
              "    }\n",
              "\n",
              "    .dataframe tbody tr th {\n",
              "        vertical-align: top;\n",
              "    }\n",
              "\n",
              "    .dataframe thead th {\n",
              "        text-align: right;\n",
              "    }\n",
              "</style>\n",
              "<table border=\"1\" class=\"dataframe\">\n",
              "  <thead>\n",
              "    <tr style=\"text-align: right;\">\n",
              "      <th></th>\n",
              "      <th>Country</th>\n",
              "      <th>region</th>\n",
              "      <th>Happiness Score</th>\n",
              "      <th>GDP</th>\n",
              "      <th>Social_support</th>\n",
              "      <th>Healthy Life_Expectancy</th>\n",
              "      <th>Freedom</th>\n",
              "      <th>corruptionperception</th>\n",
              "      <th>Generosity</th>\n",
              "    </tr>\n",
              "  </thead>\n",
              "  <tbody>\n",
              "    <tr>\n",
              "      <th>0</th>\n",
              "      <td>Switzerland</td>\n",
              "      <td>Western Europe</td>\n",
              "      <td>7.587</td>\n",
              "      <td>1.39651</td>\n",
              "      <td>1.34951</td>\n",
              "      <td>0.94143</td>\n",
              "      <td>0.66557</td>\n",
              "      <td>0.41978</td>\n",
              "      <td>0.29678</td>\n",
              "    </tr>\n",
              "    <tr>\n",
              "      <th>1</th>\n",
              "      <td>Iceland</td>\n",
              "      <td>Western Europe</td>\n",
              "      <td>7.561</td>\n",
              "      <td>1.30232</td>\n",
              "      <td>1.40223</td>\n",
              "      <td>0.94784</td>\n",
              "      <td>0.62877</td>\n",
              "      <td>0.14145</td>\n",
              "      <td>0.43630</td>\n",
              "    </tr>\n",
              "    <tr>\n",
              "      <th>2</th>\n",
              "      <td>Denmark</td>\n",
              "      <td>Western Europe</td>\n",
              "      <td>7.527</td>\n",
              "      <td>1.32548</td>\n",
              "      <td>1.36058</td>\n",
              "      <td>0.87464</td>\n",
              "      <td>0.64938</td>\n",
              "      <td>0.48357</td>\n",
              "      <td>0.34139</td>\n",
              "    </tr>\n",
              "    <tr>\n",
              "      <th>3</th>\n",
              "      <td>Norway</td>\n",
              "      <td>Western Europe</td>\n",
              "      <td>7.522</td>\n",
              "      <td>1.45900</td>\n",
              "      <td>1.33095</td>\n",
              "      <td>0.88521</td>\n",
              "      <td>0.66973</td>\n",
              "      <td>0.36503</td>\n",
              "      <td>0.34699</td>\n",
              "    </tr>\n",
              "    <tr>\n",
              "      <th>4</th>\n",
              "      <td>Canada</td>\n",
              "      <td>North America</td>\n",
              "      <td>7.427</td>\n",
              "      <td>1.32629</td>\n",
              "      <td>1.32261</td>\n",
              "      <td>0.90563</td>\n",
              "      <td>0.63297</td>\n",
              "      <td>0.32957</td>\n",
              "      <td>0.45811</td>\n",
              "    </tr>\n",
              "  </tbody>\n",
              "</table>\n",
              "</div>\n",
              "      <button class=\"colab-df-convert\" onclick=\"convertToInteractive('df-0cbd5cd3-3e7d-4eca-bce3-9f85a71f421e')\"\n",
              "              title=\"Convert this dataframe to an interactive table.\"\n",
              "              style=\"display:none;\">\n",
              "        \n",
              "  <svg xmlns=\"http://www.w3.org/2000/svg\" height=\"24px\"viewBox=\"0 0 24 24\"\n",
              "       width=\"24px\">\n",
              "    <path d=\"M0 0h24v24H0V0z\" fill=\"none\"/>\n",
              "    <path d=\"M18.56 5.44l.94 2.06.94-2.06 2.06-.94-2.06-.94-.94-2.06-.94 2.06-2.06.94zm-11 1L8.5 8.5l.94-2.06 2.06-.94-2.06-.94L8.5 2.5l-.94 2.06-2.06.94zm10 10l.94 2.06.94-2.06 2.06-.94-2.06-.94-.94-2.06-.94 2.06-2.06.94z\"/><path d=\"M17.41 7.96l-1.37-1.37c-.4-.4-.92-.59-1.43-.59-.52 0-1.04.2-1.43.59L10.3 9.45l-7.72 7.72c-.78.78-.78 2.05 0 2.83L4 21.41c.39.39.9.59 1.41.59.51 0 1.02-.2 1.41-.59l7.78-7.78 2.81-2.81c.8-.78.8-2.07 0-2.86zM5.41 20L4 18.59l7.72-7.72 1.47 1.35L5.41 20z\"/>\n",
              "  </svg>\n",
              "      </button>\n",
              "      \n",
              "  <style>\n",
              "    .colab-df-container {\n",
              "      display:flex;\n",
              "      flex-wrap:wrap;\n",
              "      gap: 12px;\n",
              "    }\n",
              "\n",
              "    .colab-df-convert {\n",
              "      background-color: #E8F0FE;\n",
              "      border: none;\n",
              "      border-radius: 50%;\n",
              "      cursor: pointer;\n",
              "      display: none;\n",
              "      fill: #1967D2;\n",
              "      height: 32px;\n",
              "      padding: 0 0 0 0;\n",
              "      width: 32px;\n",
              "    }\n",
              "\n",
              "    .colab-df-convert:hover {\n",
              "      background-color: #E2EBFA;\n",
              "      box-shadow: 0px 1px 2px rgba(60, 64, 67, 0.3), 0px 1px 3px 1px rgba(60, 64, 67, 0.15);\n",
              "      fill: #174EA6;\n",
              "    }\n",
              "\n",
              "    [theme=dark] .colab-df-convert {\n",
              "      background-color: #3B4455;\n",
              "      fill: #D2E3FC;\n",
              "    }\n",
              "\n",
              "    [theme=dark] .colab-df-convert:hover {\n",
              "      background-color: #434B5C;\n",
              "      box-shadow: 0px 1px 3px 1px rgba(0, 0, 0, 0.15);\n",
              "      filter: drop-shadow(0px 1px 2px rgba(0, 0, 0, 0.3));\n",
              "      fill: #FFFFFF;\n",
              "    }\n",
              "  </style>\n",
              "\n",
              "      <script>\n",
              "        const buttonEl =\n",
              "          document.querySelector('#df-0cbd5cd3-3e7d-4eca-bce3-9f85a71f421e button.colab-df-convert');\n",
              "        buttonEl.style.display =\n",
              "          google.colab.kernel.accessAllowed ? 'block' : 'none';\n",
              "\n",
              "        async function convertToInteractive(key) {\n",
              "          const element = document.querySelector('#df-0cbd5cd3-3e7d-4eca-bce3-9f85a71f421e');\n",
              "          const dataTable =\n",
              "            await google.colab.kernel.invokeFunction('convertToInteractive',\n",
              "                                                     [key], {});\n",
              "          if (!dataTable) return;\n",
              "\n",
              "          const docLinkHtml = 'Like what you see? Visit the ' +\n",
              "            '<a target=\"_blank\" href=https://colab.research.google.com/notebooks/data_table.ipynb>data table notebook</a>'\n",
              "            + ' to learn more about interactive tables.';\n",
              "          element.innerHTML = '';\n",
              "          dataTable['output_type'] = 'display_data';\n",
              "          await google.colab.output.renderOutput(dataTable, element);\n",
              "          const docLink = document.createElement('div');\n",
              "          docLink.innerHTML = docLinkHtml;\n",
              "          element.appendChild(docLink);\n",
              "        }\n",
              "      </script>\n",
              "    </div>\n",
              "  </div>\n",
              "  "
            ]
          },
          "metadata": {},
          "execution_count": 2
        }
      ]
    },
    {
      "cell_type": "markdown",
      "source": [
        "### **Problem #1.1**\n",
        "\n",
        "Spend a few minutes getting familiar with the data. Some things to consider: how many instances are there? How many features? What are the features' datatypes?"
      ],
      "metadata": {
        "id": "NhuunxzY8Sxx"
      }
    },
    {
      "cell_type": "code",
      "source": [
        "\n",
        "=happy_df.rename (columns = rename)"
      ],
      "metadata": {
        "id": "NqsdS5NXcwR8"
      },
      "execution_count": null,
      "outputs": []
    },
    {
      "cell_type": "markdown",
      "source": [
        "### **Problem #1.2**\n",
        "\n",
        "This data currently has no consistent naming convention for columns, which is very bad practice. So, rename each column to be of the style, `'Column Name'`, where each word is separated by a space (not an underscore, slash, or anything else) and starts uppercase. Furthermore, make sure all words are spelled correctly.\n",
        "\n",
        "<br>\n",
        "\n",
        "**Hint**: It may make you life easier to quickly print the current column names here using the `.columns` attribute."
      ],
      "metadata": {
        "id": "SN4uAbT-0GLi"
      }
    },
    {
      "cell_type": "code",
      "source": [],
      "metadata": {
        "id": "T1dokwjC0GLj"
      },
      "execution_count": null,
      "outputs": []
    },
    {
      "cell_type": "markdown",
      "source": [
        "### **Problem #1.3**\n",
        "\n",
        "Drop any duplicate rows."
      ],
      "metadata": {
        "id": "f5ZW7Yo_ypkD"
      }
    },
    {
      "cell_type": "code",
      "source": [
        "happy_df.shape"
      ],
      "metadata": {
        "id": "t3srgtUjypkE"
      },
      "execution_count": null,
      "outputs": []
    },
    {
      "cell_type": "markdown",
      "source": [
        "### **Problem #1.4**\n",
        "\n",
        "Determine the datatypes of each feature. Determine the number of non-null values in each column."
      ],
      "metadata": {
        "id": "9k5LjqCxwpHa"
      }
    },
    {
      "cell_type": "code",
      "source": [
        "happy_df.info()"
      ],
      "metadata": {
        "id": "D9tg8YBiwpHb",
        "colab": {
          "base_uri": "https://localhost:8080/"
        },
        "outputId": "f6bebb4c-cded-4993-8709-2f579f099eff"
      },
      "execution_count": null,
      "outputs": [
        {
          "output_type": "stream",
          "name": "stdout",
          "text": [
            "<class 'pandas.core.frame.DataFrame'>\n",
            "RangeIndex: 163 entries, 0 to 162\n",
            "Data columns (total 9 columns):\n",
            " #   Column                   Non-Null Count  Dtype  \n",
            "---  ------                   --------------  -----  \n",
            " 0   Country                  163 non-null    object \n",
            " 1   region                   162 non-null    object \n",
            " 2   Happiness Score          162 non-null    float64\n",
            " 3   GDP                      163 non-null    float64\n",
            " 4   Social_support           163 non-null    float64\n",
            " 5   Healthy Life_Expectancy  162 non-null    float64\n",
            " 6   Freedom                  163 non-null    float64\n",
            " 7   corruptionperception     163 non-null    float64\n",
            " 8   Generosity               163 non-null    float64\n",
            "dtypes: float64(7), object(2)\n",
            "memory usage: 11.6+ KB\n"
          ]
        }
      ]
    },
    {
      "cell_type": "markdown",
      "source": [
        "### **Problem #1.5**\n",
        "\n",
        "You should have seen from Problem #1.4 that there are 3 columns with null values. We need to either impute by filling with the average or drop the rows with null values.\n",
        "\n",
        "\n",
        "Let's deal with these columns by type, specifically:\n",
        "1. Impute or drop the numerical null values.\n",
        "2. Impute or drop the object (string) null values."
      ],
      "metadata": {
        "id": "eIcT3HdYy0Tz"
      }
    },
    {
      "cell_type": "markdown",
      "source": [
        "#### **1. Impute or drop the numerical null values.**\n",
        "\n",
        "Complete the code below to *drop* the numerical null values. There's an argument for dropping or imputing, but dropping is a safer choice that does not rely on making any assumptions about these variables."
      ],
      "metadata": {
        "id": "kZJ25BOCTusV"
      }
    },
    {
      "cell_type": "code",
      "source": [
        "happy_df = happy_df.dropna(axis = 0, how='any', subset = [# COMPLETE THIS LINE"
      ],
      "metadata": {
        "id": "X463Ho8By0Tz"
      },
      "execution_count": null,
      "outputs": []
    },
    {
      "cell_type": "markdown",
      "source": [
        "#### **2. Impute or drop the object (string) null values.**\n",
        "\n",
        "Complete the code below to *impute* the object (string) null value(s). This is something we can look up, so it's completely reasonable to fill in the missing values manually and not have to sacrifice more data points.\n",
        "\n",
        "<br>\n",
        "\n",
        "**NOTE**: You will likely need to use the following three commands to accomplish this:\n",
        "\n",
        "1. `happy_df[happy_df['column name'].isnull()]`: Print the specific data point(s) with a null value for `'column name'`.\n",
        "2. `happy_df['column name'].unique()`: Print the possible values that we could use to fill in the null value found above.\n",
        "3. `happy_df.loc[happy_df['column name'].isnull(), 'column name'] = 'non-null value'`: Fill in the null value with a new value. This should be the best option from the list of unique values found above."
      ],
      "metadata": {
        "id": "o43u1mzRUYH0"
      }
    },
    {
      "cell_type": "code",
      "source": [
        "happy_df[happy_df['Redgion'].isnull()]"
      ],
      "metadata": {
        "id": "5qKWwPnPUv9u"
      },
      "execution_count": null,
      "outputs": []
    },
    {
      "cell_type": "code",
      "source": [
        "happy_df['Region'].unique()"
      ],
      "metadata": {
        "id": "WduNjaE2V-dS"
      },
      "execution_count": null,
      "outputs": []
    },
    {
      "cell_type": "code",
      "source": [
        "happy_df.loc[happy_df['column name'].isnull(), 'column name'] = 'non-null value'"
      ],
      "metadata": {
        "id": "ri19lCOQWBId"
      },
      "execution_count": null,
      "outputs": []
    },
    {
      "cell_type": "markdown",
      "source": [
        "### **Problem #1.6**\n",
        "\n",
        "Now that the data should be clean, take some time to understand the variables in this dataset, by looking at the [official statistical appendix/codebook here](https://s3.amazonaws.com/happiness-report/2015/StatisticalAppendixWHR3-April-16-2015.pdf) and answering the multiple choice questions below.\n",
        "\n",
        "You will only need to refer to the first 2.5 pages of information, until they start mentioning the \"expanded data set\". You do not need to read anything after this.\n",
        "\n",
        "<br>\n",
        "\n",
        "**1. Which of the following best describes the `Happiness Score`?**\n",
        "\n",
        ">**a.** We can also call this measure the \"life ladder”.\n",
        "\n",
        ">**b.** We can also call this measure the “objective well-being”.\n",
        "\n",
        ">**c.** This is a measure of how many ladders people own in a country on average. The more ladders, the happier the people.\n",
        "\n",
        ">**d.** Respondents were asked how happy they were on a scale of 1 - 10.\n",
        "\n",
        "<br>\n",
        "\n",
        "**2. How is `Social Support` measured?**\n",
        "\n",
        ">**a.** This represents the average of responses on a scale of 1 - 10.\n",
        "\n",
        ">**b.** This is measured differently for each country.\n",
        "\n",
        ">**c**. Respondents were asked, “If you were in trouble, would you have support?”\n",
        "\n",
        ">**d.** Respondents were asked, “If you were in trouble, do you have relatives or friends you can count on to help you whenever you need them, or not?”\n",
        "\n",
        "<br>\n",
        "\n",
        "**3. How is `Freedom` measured?**\n",
        "\n",
        ">**a.** This represents the average of responses on a scale of 1 - 10.\n",
        "\n",
        ">**b.** This is measured differently for each country.\n",
        "\n",
        ">**c**. Respondents were asked, “Are you satisfied or dissatisfied with your freedom to choose what you do with your life?”\n",
        "\n",
        ">**d.** Respondents were asked, “How free are you?”"
      ],
      "metadata": {
        "id": "0sOSncGP8fNU"
      }
    },
    {
      "cell_type": "code",
      "source": [
        "# ENTER YOUR ANSWER TO 1 HERE"
      ],
      "metadata": {
        "id": "P-KFjeVWXhgl"
      },
      "execution_count": null,
      "outputs": []
    },
    {
      "cell_type": "code",
      "source": [
        "# ENTER YOUR ANSWER TO 2 HERE"
      ],
      "metadata": {
        "id": "YHP1QIDaXjpU"
      },
      "execution_count": null,
      "outputs": []
    },
    {
      "cell_type": "code",
      "source": [
        "# ENTER YOUR ANSWER TO 3 HERE"
      ],
      "metadata": {
        "id": "vaOGD6ifXk8M"
      },
      "execution_count": null,
      "outputs": []
    },
    {
      "cell_type": "markdown",
      "source": [
        "### **Problem #1.7**\n",
        "\n",
        "Determine the average (mean) and standard deviation (std) of the numerical variables."
      ],
      "metadata": {
        "id": "1pSRy496-WVf"
      }
    },
    {
      "cell_type": "code",
      "source": [],
      "metadata": {
        "id": "X-GpnCl0tkcO"
      },
      "execution_count": null,
      "outputs": []
    },
    {
      "cell_type": "code",
      "source": [],
      "metadata": {
        "id": "Zl555tbvZhk9"
      },
      "execution_count": null,
      "outputs": []
    },
    {
      "cell_type": "markdown",
      "source": [
        "### **Problem #1.8**\n",
        "\n",
        "Determine all the regions that were included in this dataset."
      ],
      "metadata": {
        "id": "tWCgavI9-q_b"
      }
    },
    {
      "cell_type": "code",
      "source": [
        "happy_df['Region'].unique()"
      ],
      "metadata": {
        "id": "2pNMjL4_t-Bh"
      },
      "execution_count": null,
      "outputs": []
    },
    {
      "cell_type": "markdown",
      "source": [
        "### **Problem #1.9**\n",
        "\n",
        "Complete the code below to create a new feature called `Region Encoded` that encodes the regions into numerical values."
      ],
      "metadata": {
        "id": "vD3nrzSPY9D9"
      }
    },
    {
      "cell_type": "code",
      "source": [
        "region_list = happy_df['Region'].unique()\n",
        "#will loop\n",
        "region_map = {region_list[i]: i for i in range(len(region_list))}\n",
        "\n",
        "happy_df['Region Encoded'] = happy_df['Region'].map(region_map)\n",
        "\n",
        "happy_df.head()"
      ],
      "metadata": {
        "id": "mipCFd7AY9D9",
        "colab": {
          "base_uri": "https://localhost:8080/",
          "height": 603
        },
        "outputId": "c37740bf-1c87-44ae-97da-65c8422a0f60"
      },
      "execution_count": null,
      "outputs": [
        {
          "output_type": "error",
          "ename": "KeyError",
          "evalue": "ignored",
          "traceback": [
            "\u001b[0;31m---------------------------------------------------------------------------\u001b[0m",
            "\u001b[0;31mKeyError\u001b[0m                                  Traceback (most recent call last)",
            "\u001b[0;32m/usr/local/lib/python3.10/dist-packages/pandas/core/indexes/base.py\u001b[0m in \u001b[0;36mget_loc\u001b[0;34m(self, key, method, tolerance)\u001b[0m\n\u001b[1;32m   3801\u001b[0m             \u001b[0;32mtry\u001b[0m\u001b[0;34m:\u001b[0m\u001b[0;34m\u001b[0m\u001b[0;34m\u001b[0m\u001b[0m\n\u001b[0;32m-> 3802\u001b[0;31m                 \u001b[0;32mreturn\u001b[0m \u001b[0mself\u001b[0m\u001b[0;34m.\u001b[0m\u001b[0m_engine\u001b[0m\u001b[0;34m.\u001b[0m\u001b[0mget_loc\u001b[0m\u001b[0;34m(\u001b[0m\u001b[0mcasted_key\u001b[0m\u001b[0;34m)\u001b[0m\u001b[0;34m\u001b[0m\u001b[0;34m\u001b[0m\u001b[0m\n\u001b[0m\u001b[1;32m   3803\u001b[0m             \u001b[0;32mexcept\u001b[0m \u001b[0mKeyError\u001b[0m \u001b[0;32mas\u001b[0m \u001b[0merr\u001b[0m\u001b[0;34m:\u001b[0m\u001b[0;34m\u001b[0m\u001b[0;34m\u001b[0m\u001b[0m\n",
            "\u001b[0;32m/usr/local/lib/python3.10/dist-packages/pandas/_libs/index.pyx\u001b[0m in \u001b[0;36mpandas._libs.index.IndexEngine.get_loc\u001b[0;34m()\u001b[0m\n",
            "\u001b[0;32m/usr/local/lib/python3.10/dist-packages/pandas/_libs/index.pyx\u001b[0m in \u001b[0;36mpandas._libs.index.IndexEngine.get_loc\u001b[0;34m()\u001b[0m\n",
            "\u001b[0;32mpandas/_libs/hashtable_class_helper.pxi\u001b[0m in \u001b[0;36mpandas._libs.hashtable.PyObjectHashTable.get_item\u001b[0;34m()\u001b[0m\n",
            "\u001b[0;32mpandas/_libs/hashtable_class_helper.pxi\u001b[0m in \u001b[0;36mpandas._libs.hashtable.PyObjectHashTable.get_item\u001b[0;34m()\u001b[0m\n",
            "\u001b[0;31mKeyError\u001b[0m: 'Region'",
            "\nThe above exception was the direct cause of the following exception:\n",
            "\u001b[0;31mKeyError\u001b[0m                                  Traceback (most recent call last)",
            "\u001b[0;32m<ipython-input-4-874dd720c7ad>\u001b[0m in \u001b[0;36m<cell line: 1>\u001b[0;34m()\u001b[0m\n\u001b[0;32m----> 1\u001b[0;31m \u001b[0mregion_list\u001b[0m \u001b[0;34m=\u001b[0m \u001b[0mhappy_df\u001b[0m\u001b[0;34m[\u001b[0m\u001b[0;34m'Region'\u001b[0m\u001b[0;34m]\u001b[0m\u001b[0;34m.\u001b[0m\u001b[0munique\u001b[0m\u001b[0;34m(\u001b[0m\u001b[0;34m)\u001b[0m\u001b[0;34m\u001b[0m\u001b[0;34m\u001b[0m\u001b[0m\n\u001b[0m\u001b[1;32m      2\u001b[0m \u001b[0;31m#will loop\u001b[0m\u001b[0;34m\u001b[0m\u001b[0;34m\u001b[0m\u001b[0m\n\u001b[1;32m      3\u001b[0m \u001b[0mregion_map\u001b[0m \u001b[0;34m=\u001b[0m \u001b[0;34m{\u001b[0m\u001b[0mregion_list\u001b[0m\u001b[0;34m[\u001b[0m\u001b[0mi\u001b[0m\u001b[0;34m]\u001b[0m\u001b[0;34m:\u001b[0m \u001b[0mi\u001b[0m \u001b[0;32mfor\u001b[0m \u001b[0mi\u001b[0m \u001b[0;32min\u001b[0m \u001b[0mrange\u001b[0m\u001b[0;34m(\u001b[0m\u001b[0mlen\u001b[0m\u001b[0;34m(\u001b[0m\u001b[0mregion_list\u001b[0m\u001b[0;34m)\u001b[0m\u001b[0;34m)\u001b[0m\u001b[0;34m}\u001b[0m\u001b[0;34m\u001b[0m\u001b[0;34m\u001b[0m\u001b[0m\n\u001b[1;32m      4\u001b[0m \u001b[0;34m\u001b[0m\u001b[0m\n\u001b[1;32m      5\u001b[0m \u001b[0mhappy_df\u001b[0m\u001b[0;34m[\u001b[0m\u001b[0;34m'Region Encoded'\u001b[0m\u001b[0;34m]\u001b[0m \u001b[0;34m=\u001b[0m \u001b[0mhappy_df\u001b[0m\u001b[0;34m[\u001b[0m\u001b[0;34m'Region'\u001b[0m\u001b[0;34m]\u001b[0m\u001b[0;34m.\u001b[0m\u001b[0mmap\u001b[0m\u001b[0;34m(\u001b[0m\u001b[0mregion_map\u001b[0m\u001b[0;34m)\u001b[0m\u001b[0;34m\u001b[0m\u001b[0;34m\u001b[0m\u001b[0m\n",
            "\u001b[0;32m/usr/local/lib/python3.10/dist-packages/pandas/core/frame.py\u001b[0m in \u001b[0;36m__getitem__\u001b[0;34m(self, key)\u001b[0m\n\u001b[1;32m   3805\u001b[0m             \u001b[0;32mif\u001b[0m \u001b[0mself\u001b[0m\u001b[0;34m.\u001b[0m\u001b[0mcolumns\u001b[0m\u001b[0;34m.\u001b[0m\u001b[0mnlevels\u001b[0m \u001b[0;34m>\u001b[0m \u001b[0;36m1\u001b[0m\u001b[0;34m:\u001b[0m\u001b[0;34m\u001b[0m\u001b[0;34m\u001b[0m\u001b[0m\n\u001b[1;32m   3806\u001b[0m                 \u001b[0;32mreturn\u001b[0m \u001b[0mself\u001b[0m\u001b[0;34m.\u001b[0m\u001b[0m_getitem_multilevel\u001b[0m\u001b[0;34m(\u001b[0m\u001b[0mkey\u001b[0m\u001b[0;34m)\u001b[0m\u001b[0;34m\u001b[0m\u001b[0;34m\u001b[0m\u001b[0m\n\u001b[0;32m-> 3807\u001b[0;31m             \u001b[0mindexer\u001b[0m \u001b[0;34m=\u001b[0m \u001b[0mself\u001b[0m\u001b[0;34m.\u001b[0m\u001b[0mcolumns\u001b[0m\u001b[0;34m.\u001b[0m\u001b[0mget_loc\u001b[0m\u001b[0;34m(\u001b[0m\u001b[0mkey\u001b[0m\u001b[0;34m)\u001b[0m\u001b[0;34m\u001b[0m\u001b[0;34m\u001b[0m\u001b[0m\n\u001b[0m\u001b[1;32m   3808\u001b[0m             \u001b[0;32mif\u001b[0m \u001b[0mis_integer\u001b[0m\u001b[0;34m(\u001b[0m\u001b[0mindexer\u001b[0m\u001b[0;34m)\u001b[0m\u001b[0;34m:\u001b[0m\u001b[0;34m\u001b[0m\u001b[0;34m\u001b[0m\u001b[0m\n\u001b[1;32m   3809\u001b[0m                 \u001b[0mindexer\u001b[0m \u001b[0;34m=\u001b[0m \u001b[0;34m[\u001b[0m\u001b[0mindexer\u001b[0m\u001b[0;34m]\u001b[0m\u001b[0;34m\u001b[0m\u001b[0;34m\u001b[0m\u001b[0m\n",
            "\u001b[0;32m/usr/local/lib/python3.10/dist-packages/pandas/core/indexes/base.py\u001b[0m in \u001b[0;36mget_loc\u001b[0;34m(self, key, method, tolerance)\u001b[0m\n\u001b[1;32m   3802\u001b[0m                 \u001b[0;32mreturn\u001b[0m \u001b[0mself\u001b[0m\u001b[0;34m.\u001b[0m\u001b[0m_engine\u001b[0m\u001b[0;34m.\u001b[0m\u001b[0mget_loc\u001b[0m\u001b[0;34m(\u001b[0m\u001b[0mcasted_key\u001b[0m\u001b[0;34m)\u001b[0m\u001b[0;34m\u001b[0m\u001b[0;34m\u001b[0m\u001b[0m\n\u001b[1;32m   3803\u001b[0m             \u001b[0;32mexcept\u001b[0m \u001b[0mKeyError\u001b[0m \u001b[0;32mas\u001b[0m \u001b[0merr\u001b[0m\u001b[0;34m:\u001b[0m\u001b[0;34m\u001b[0m\u001b[0;34m\u001b[0m\u001b[0m\n\u001b[0;32m-> 3804\u001b[0;31m                 \u001b[0;32mraise\u001b[0m \u001b[0mKeyError\u001b[0m\u001b[0;34m(\u001b[0m\u001b[0mkey\u001b[0m\u001b[0;34m)\u001b[0m \u001b[0;32mfrom\u001b[0m \u001b[0merr\u001b[0m\u001b[0;34m\u001b[0m\u001b[0;34m\u001b[0m\u001b[0m\n\u001b[0m\u001b[1;32m   3805\u001b[0m             \u001b[0;32mexcept\u001b[0m \u001b[0mTypeError\u001b[0m\u001b[0;34m:\u001b[0m\u001b[0;34m\u001b[0m\u001b[0;34m\u001b[0m\u001b[0m\n\u001b[1;32m   3806\u001b[0m                 \u001b[0;31m# If we have a listlike key, _check_indexing_error will raise\u001b[0m\u001b[0;34m\u001b[0m\u001b[0;34m\u001b[0m\u001b[0m\n",
            "\u001b[0;31mKeyError\u001b[0m: 'Region'"
          ]
        }
      ]
    },
    {
      "cell_type": "markdown",
      "source": [
        "### **Problem #1.10**\n",
        "\n",
        "Let's visualize some of the data and see if we can discover some relationships. Specifically, create bar graphs of `Happiness Score` for the countries in several different regions: `\"Middle East and Northern Africa\"`, `\"Southern Asia\"`, and `\"North America\"`.\n",
        "\n",
        "\n",
        "**NOTE:** Some of the code has already been provided for the first example to help you get started."
      ],
      "metadata": {
        "id": "Qq1bhvR6-dYm"
      }
    },
    {
      "cell_type": "markdown",
      "source": [
        "#### **Middle East and Northern Africa**"
      ],
      "metadata": {
        "id": "jrmSU9K1DTB6"
      }
    },
    {
      "cell_type": "code",
      "source": [
        "x = happy_df[happy_df[\"Region\"] == 'Middle East and Northern Africa']['Country']\n",
        "y =happy_df[happy_df[\"Region\"] == 'Middle East and Northern Africa']['Happiness Score']\n",
        "\n",
        "plt.bar(x , y)\n",
        "\n",
        "plt.title('Countries in Middle East and Northern Africa vs. Happiness score')\n",
        "plt.xlabel(# COMPLETE THIS LINE\n",
        "plt.ylabel('Happiness Score')\n",
        "plt.xticks(rotation = 90)\n",
        "\n",
        "plt.show()"
      ],
      "metadata": {
        "id": "qrv4G4yTaUA8"
      },
      "execution_count": null,
      "outputs": []
    },
    {
      "cell_type": "markdown",
      "source": [
        "#### **Southern Asia**"
      ],
      "metadata": {
        "id": "7n3OX701DXUO"
      }
    },
    {
      "cell_type": "code",
      "source": [],
      "metadata": {
        "id": "oty9jw9MaXUm"
      },
      "execution_count": null,
      "outputs": []
    },
    {
      "cell_type": "markdown",
      "source": [
        "#### **North America**"
      ],
      "metadata": {
        "id": "QdV-HA4DaJGG"
      }
    },
    {
      "cell_type": "code",
      "source": [],
      "metadata": {
        "id": "BMGWEHDoaX9O"
      },
      "execution_count": null,
      "outputs": []
    },
    {
      "cell_type": "markdown",
      "source": [
        "### **Problem #1.11**\n",
        "\n",
        "Now, create scatter plots of `Happiness Score` on the y-axis versus several different numerical variables on the x-axis: `Social Support`, `Freedom`, and `GDP`."
      ],
      "metadata": {
        "id": "E9EZiL7Xb1cH"
      }
    },
    {
      "cell_type": "markdown",
      "source": [
        "#### **Happiness Score vs. Social Support**"
      ],
      "metadata": {
        "id": "B8J2nKMeEA34"
      }
    },
    {
      "cell_type": "code",
      "source": [
        "plt.scatter(happy_df['Social Support', happy_df['Happiness Score']])"
      ],
      "metadata": {
        "id": "0MwCdyWTa7aQ"
      },
      "execution_count": null,
      "outputs": []
    },
    {
      "cell_type": "markdown",
      "source": [
        "#### **Happiness Score vs. Freedom**"
      ],
      "metadata": {
        "id": "ewxAlHaobC66"
      }
    },
    {
      "cell_type": "code",
      "source": [],
      "metadata": {
        "id": "-R8EnRWFbC66"
      },
      "execution_count": null,
      "outputs": []
    },
    {
      "cell_type": "markdown",
      "source": [
        "#### **Happiness Score vs. GDP**"
      ],
      "metadata": {
        "id": "VciZBGV1bc9X"
      }
    },
    {
      "cell_type": "code",
      "source": [
        "plt.scatter (happy_df['GDP'],happy_df['Happiness Score ']\n",
        "\n"
      ],
      "metadata": {
        "id": "4O-NXhTHbc9g"
      },
      "execution_count": null,
      "outputs": []
    },
    {
      "cell_type": "markdown",
      "source": [
        "### **Reflection Questions**\n",
        "---\n",
        "1. Is there a noticeable difference in happiness scores between different regions?\n",
        "2. Does any region display a significant disparity between its country with the highest happiness score and its country with the lowest?\n",
        "3. How do variables such as `Social Support`, `GDP`, and `Freedom` influence a country's happiness score? Do any variables seem to influence a country's happiness score more than others?\n",
        "4. What are other relationships between variables that you think may be useful to visualize? What kind of data visualization graph would you use?\n",
        "5. Consider the conceptual definitions of the features provided in the dataset. Are there any features that seem ambiguous or open to interpretation? How might these conceptual definitions impact the accuracy and reliability of the models when predicting happiness levels?\n",
        "6. Reflect on the cultural and contextual factors that may influence the interpretation and relevance of the features in different countries. How might the meaning of a specific feature differ across diverse cultural and socioeconomic contexts?"
      ],
      "metadata": {
        "id": "uQr8LsOKkeU5"
      }
    },
    {
      "cell_type": "markdown",
      "metadata": {
        "id": "tR2_M-tIYyfD"
      },
      "source": [
        "<a name=\"p2\"></a>\n",
        "\n",
        "---\n",
        "## **Part 2: Predicting Happiness Score**\n",
        "---\n",
        "\n",
        "Now you will create, evaluate, and train a machine learning model to predict the happiness score of a country based on the provided numerical features. It is up to you to determine if you should be using Linear Regression or KNN here.\n",
        "\n",
        "<br>\n",
        "\n",
        "You will do this two times as follows:\n",
        "\n",
        "**Part 2.1**: Using All Numerical Features\n",
        "\n",
        "**Part 2.2**: Using the 3 Best Numerical Features"
      ]
    },
    {
      "cell_type": "markdown",
      "source": [
        "<a name=\"p21\"></a>\n",
        "\n",
        "---\n",
        "### **Part 2.1: Using All Numerical Features**\n",
        "---"
      ],
      "metadata": {
        "id": "lAnwuc5ie4jU"
      }
    },
    {
      "cell_type": "markdown",
      "source": [
        "#### **Step #1: Load in the data**\n",
        "\n",
        "This step was completed in Part 1!"
      ],
      "metadata": {
        "id": "4rq3tDncvCOd"
      }
    },
    {
      "cell_type": "markdown",
      "metadata": {
        "id": "Lf5OrHhNifXL"
      },
      "source": [
        "#### **Step #2: Decide independent and dependent variables**\n",
        "\n",
        "Complete the code below to decide the independent and dependent variables.\n",
        "\n",
        "<br>\n",
        "\n",
        "**NOTE**: The dependent variable (label) for all of Part 2 is `Happiness Score`. Using one of several pandas functions, you can determine the numerical features available and use them all as the independent variables."
      ]
    },
    {
      "cell_type": "code",
      "source": [
        "happy_df.# COMPLETE THIS LINE"
      ],
      "metadata": {
        "id": "nt2s_Sh8gE2f",
        "colab": {
          "base_uri": "https://localhost:8080/",
          "height": 133
        },
        "outputId": "f0593397-d814-441f-cca6-5d1637b28d75"
      },
      "execution_count": null,
      "outputs": [
        {
          "output_type": "error",
          "ename": "SyntaxError",
          "evalue": "ignored",
          "traceback": [
            "\u001b[0;36m  File \u001b[0;32m\"<ipython-input-7-7917b51687bb>\"\u001b[0;36m, line \u001b[0;32m1\u001b[0m\n\u001b[0;31m    happy_df.# COMPLETE THIS LINE\u001b[0m\n\u001b[0m             ^\u001b[0m\n\u001b[0;31mSyntaxError\u001b[0m\u001b[0;31m:\u001b[0m invalid syntax\n"
          ]
        }
      ]
    },
    {
      "cell_type": "code",
      "source": [
        "x = haooy_df.drop(columns =['Country','Region','Happiness Score'], axis =1)\n",
        "y = happy.df['Happiness Score']"
      ],
      "metadata": {
        "id": "roZfBwfPgEiY"
      },
      "execution_count": null,
      "outputs": []
    },
    {
      "cell_type": "markdown",
      "metadata": {
        "id": "f2My4nq5gKNq"
      },
      "source": [
        "#### **Step #3: Split data into training and testing data**\n",
        "\n",
        "Complete the code below to split the data, using 80% for training and 20% for testing."
      ]
    },
    {
      "cell_type": "code",
      "source": [
        "X_train, X_test, y_train, y_test = train_test_split(# COMPLETE THIS LINE"
      ],
      "metadata": {
        "id": "L-zVhDgvgXMD"
      },
      "execution_count": null,
      "outputs": []
    },
    {
      "cell_type": "markdown",
      "metadata": {
        "id": "CfiX_8hhg9n8"
      },
      "source": [
        "#### **Step #4: Import the algorithm**\n",
        "\n",
        "We are using `GDP`,\t`Social Support`,\t`Healthy Life Expectancy`, `Freedom`,\t`Corruption Perception`, `Generosity`, and \t`Region Encoded` to predict `Happiness Score`. Which algorithm is best suited for this goal?"
      ]
    },
    {
      "cell_type": "code",
      "source": [],
      "metadata": {
        "id": "Cd1IkHtOg-Ig"
      },
      "execution_count": null,
      "outputs": []
    },
    {
      "cell_type": "markdown",
      "metadata": {
        "id": "g2KE3jHPhKzg"
      },
      "source": [
        "#### **Step #5: Initialize the model and set hyperparameters**\n",
        "\n",
        "Specifically,\n",
        "* For Linear Regression, there are no hyperparameters to set.\n",
        "* For KNN, choose a reasonable value for `n_neighbors`. You are encouraged to try Steps #5 - 7 for several values and picking the model with the highest performance."
      ]
    },
    {
      "cell_type": "code",
      "source": [
        "model_1 =LinearRegression()"
      ],
      "metadata": {
        "id": "elnmJ3iBhTKR"
      },
      "execution_count": null,
      "outputs": []
    },
    {
      "cell_type": "markdown",
      "metadata": {
        "id": "0Xb5J75whk-Z"
      },
      "source": [
        "#### **Step #6: Fit your model and make a prediction.**\n",
        "\n",
        "Create a visualization if applicable.\n",
        "\n",
        "Specifically,\n",
        "\n",
        "1. Fit the model to the training data and make predictions on the test data.\n",
        "2. Visualize the results."
      ]
    },
    {
      "cell_type": "markdown",
      "source": [
        "##### **1. Fit the model to the training data.**"
      ],
      "metadata": {
        "id": "zEVQG9nT1P_c"
      }
    },
    {
      "cell_type": "code",
      "source": [
        "model_1.# COMPLETE THIS LINE TO TRAIN\n",
        "predictions = model_1.# COMPLETE THIS LINE TO PREDICT"
      ],
      "metadata": {
        "id": "c4SWvBhkiJzD"
      },
      "execution_count": null,
      "outputs": []
    },
    {
      "cell_type": "markdown",
      "source": [
        "##### **2. Visualize the results.**\n",
        "\n",
        "The code is provided for both linear regression and KNN, but it is up to you to decide which one makes the most sense here."
      ],
      "metadata": {
        "id": "j6ELbxOz1dEJ"
      }
    },
    {
      "cell_type": "markdown",
      "source": [
        "###### **Linear Regression Visualization**"
      ],
      "metadata": {
        "id": "l4LgQGvH1vwz"
      }
    },
    {
      "cell_type": "code",
      "source": [
        "# Visualize comparison of predictions vs. actual values\n",
        "plt.scatter(y_test, predictions)\n",
        "plt.plot([y_test.min(), y_test.max()], [y_test.min(), y_test.max()], color = 'black', label='Correct Predictions')\n",
        "\n",
        "\n",
        "plt.xlabel('True Value')\n",
        "plt.ylabel('Predicted Value')\n",
        "plt.title('Real vs Value')\n",
        "plt.legend()\n",
        "\n",
        "plt.show()"
      ],
      "metadata": {
        "id": "1hJPYG6E1dEK"
      },
      "execution_count": null,
      "outputs": []
    },
    {
      "cell_type": "markdown",
      "source": [
        "###### **KNN Visualization**"
      ],
      "metadata": {
        "id": "5sqApk_B1zFd"
      }
    },
    {
      "cell_type": "code",
      "source": [
        "feature_1_name = 'GDP'\n",
        "feature_2_name = 'Healthy Life Expectancy'\n",
        "\n",
        "\n",
        "# Make the same scatter plot of the training data\n",
        "fig, ax = plt.subplots(figsize=(10,6))\n",
        "\n",
        "xx, yy = np.meshgrid(np.arange(happy_df[feature_1_name].min() - 0.1, happy_df[feature_1_name].max() + 0.1, 0.01),\n",
        "                     np.arange(happy_df[feature_2_name].min() - 0.1, happy_df[feature_2_name].max() + 0.1, 0.01))\n",
        "\n",
        "means = x.mean()\n",
        "inputs = [[means[0], x, means[2], y, means[4], means[5], means[6]] for (x, y) in np.c_[xx.ravel(), yy.ravel()]]\n",
        "z = model_1.predict(inputs)\n",
        "z = z.reshape(xx.shape)\n",
        "\n",
        "ax.pcolormesh(xx, yy, z, alpha=0.1)\n",
        "\n",
        "for label, data in happy_df.groupby('Happiness Score'):\n",
        "  ax.scatter(data[feature_1_name], data[feature_2_name], label=label)\n",
        "\n",
        "ax.set_title(\"Decision Boundary of the KNN Classifier\")\n",
        "ax.set_xlabel(feature_1_name)\n",
        "ax.set_ylabel(feature_2_name)\n",
        "ax.legend()\n",
        "plt.show()"
      ],
      "metadata": {
        "id": "3GzlDuEA12Ip"
      },
      "execution_count": null,
      "outputs": []
    },
    {
      "cell_type": "markdown",
      "metadata": {
        "id": "nuqWq13eibD-"
      },
      "source": [
        "#### **Step #7: Evaluate the model's performance**\n",
        "\n",
        "To complete this step, you will need to recall or find out what evaluation metrics we typically use for whichever type of model you have trained.\n",
        "\n",
        "<br>\n",
        "\n",
        "If you used KNN, you should try several values for Steps #5 - 7 and pick the model that performs highest according to these metrics."
      ]
    },
    {
      "cell_type": "code",
      "source": [
        "print('R2')"
      ],
      "metadata": {
        "id": "Ezue7YozibD_"
      },
      "execution_count": null,
      "outputs": []
    },
    {
      "cell_type": "markdown",
      "metadata": {
        "id": "LT_lgbfTjJlO"
      },
      "source": [
        "#### **Step #8: Use the model**\n",
        "\n",
        "Specifically,\n",
        "\n",
        "1. Predict the happiness score of three countries that reported provided results for their numerical measures.\n",
        "\n",
        "2. Visualize the modeled relationship between `Happinesss Score` and `Social Support` to see if a qualitative relationship can be inferred.\n",
        "\n",
        "3. *If you used linear regression*, look at the coefficients and intercept to determine the modeled relationships quantitatively."
      ]
    },
    {
      "cell_type": "markdown",
      "source": [
        "##### **1. Predict the happiness score of these countries that reported the following results for their numerical measures:**\n",
        "\n",
        "**Country 1**\n",
        "\n",
        "* `GDP`: 0.9\n",
        "* `Social Support`: 0.4\n",
        "* `Healthy Life Expectancy`: 0.8\n",
        "* `Freedom`: 0.4\n",
        "* `Corruption Perception`: 0.2\n",
        "* `Generosity`: 0.09\n",
        "* `Region Encoded`: 0\n",
        "\n",
        "<br>\n",
        "\n",
        "**Country 2**\n",
        "\n",
        "* `GDP`: 0.9\n",
        "* `Social Support`: 0.4\n",
        "* `Healthy Life Expectancy`: 0.8\n",
        "* `Freedom`: 0.4\n",
        "* `Corruption Perception`: 0.2\n",
        "* `Generosity`: 0.09\n",
        "* `Region Encoded`: 9\n",
        "\n",
        "<br>\n",
        "\n",
        "**Country 3**\n",
        "\n",
        "* `GDP`: 1.1\n",
        "* `Social Support`: 0.9\n",
        "* `Healthy Life Expectancy`: 1.01\n",
        "* `Freedom`: 0.9\n",
        "* `Corruption Perception`: 0.1\n",
        "* `Generosity`: 0.9\n",
        "* `Region Encoded`: 4"
      ],
      "metadata": {
        "id": "APzOK_U9NcDn"
      }
    },
    {
      "cell_type": "code",
      "source": [
        "# COUNTRY 1\n",
        "new_country = pd.DataFrame([[# COMPLETE THIS LINE]], columns = X_test.columns)\n",
        "\n",
        "print(model_1.predict(# COMPLETE THIS LINE"
      ],
      "metadata": {
        "id": "ZOwDEPfUjrtj"
      },
      "execution_count": null,
      "outputs": []
    },
    {
      "cell_type": "code",
      "source": [
        "# COUNTRY 2\n",
        "# COMPLETE THIS CODE"
      ],
      "metadata": {
        "id": "m6FTxs0dmKo5"
      },
      "execution_count": null,
      "outputs": []
    },
    {
      "cell_type": "code",
      "source": [
        "# COUNTRY 3\n",
        "# COMPLETE THIS CODE"
      ],
      "metadata": {
        "id": "6CXK6HSEmMut"
      },
      "execution_count": null,
      "outputs": []
    },
    {
      "cell_type": "markdown",
      "source": [
        "##### **2. Visualize the modeled relationship between `Happinesss Score` and `Social Support` to see if a qualitative relationship can be inferred.**"
      ],
      "metadata": {
        "id": "oHo9E1DaNcMp"
      }
    },
    {
      "cell_type": "code",
      "source": [],
      "metadata": {
        "id": "wCcjKeGGmz5v"
      },
      "execution_count": null,
      "outputs": []
    },
    {
      "cell_type": "markdown",
      "source": [
        "##### **3. *If you used linear regression*, complete the cells below to look at the coefficients and intercept to determine the modeled relationships quantitatively.**"
      ],
      "metadata": {
        "id": "YG6QrVIrNcSr"
      }
    },
    {
      "cell_type": "code",
      "source": [
        "coefficients = model_1.# COMPLETE THIS LINE\n",
        "intercept = model_1.# COMPLETE THIS LINE\n",
        "\n",
        "coefficients = pd.DataFrame([coefficients], columns = X_test.columns)\n",
        "intercept = pd.DataFrame([intercept], columns = [\"Happiness Score\"])"
      ],
      "metadata": {
        "id": "1AI68Jupn6UR"
      },
      "execution_count": null,
      "outputs": []
    },
    {
      "cell_type": "code",
      "source": [
        "print(\"Coefficients:\")\n",
        "coefficients.head()"
      ],
      "metadata": {
        "id": "A4TnZL6fn6US"
      },
      "execution_count": null,
      "outputs": []
    },
    {
      "cell_type": "code",
      "source": [
        "print(\"\\nIntercept:\")\n",
        "intercept.head()"
      ],
      "metadata": {
        "id": "9MxeCWwsn6US"
      },
      "execution_count": null,
      "outputs": []
    },
    {
      "cell_type": "code",
      "source": [],
      "metadata": {
        "id": "rI1UusGEn20C"
      },
      "execution_count": null,
      "outputs": []
    },
    {
      "cell_type": "markdown",
      "source": [
        "#### **Reflection Questions**\n",
        "\n",
        "1. Which machine learning algorithm was best suited for this section? Why?\n",
        "2. Consider the strengths and limitations of the KNN model for predicting happiness levels in different countries. How does it handle categorical versus numerical features in the dataset?\n",
        "3. Reflect on the ethical considerations and potential biases associated with using machine learning models to predict happiness levels. How might the choice between KNN and linear regression impact these considerations?\n"
      ],
      "metadata": {
        "id": "KYwIQjBzyFoo"
      }
    },
    {
      "cell_type": "markdown",
      "source": [
        "<a name=\"p22\"></a>\n",
        "\n",
        "---\n",
        "### **Part 2.2: Using the 3 Best Numerical Features**\n",
        "---\n",
        "It's important to note that not all features in a dataset necessarily contribute positively to a machine learning model when predicting happiness levels. Some features may be irrelevant, noisy, or even introduce biases into the model. Therefore, careful feature selection or feature engineering is essential to ensure the model focuses on the most meaningful and influential factors.\n"
      ],
      "metadata": {
        "id": "qIY_pTi6oI4r"
      }
    },
    {
      "cell_type": "markdown",
      "source": [
        "#### **Step #1:** Load in the data\n",
        "\n",
        "This step was completed in Part 1!"
      ],
      "metadata": {
        "id": "gSQ1tIbv7xOG"
      }
    },
    {
      "cell_type": "markdown",
      "metadata": {
        "id": "xAwf4Xu5oI4s"
      },
      "source": [
        "#### **Step #2: Decide independent and dependent variables**\n",
        "\n",
        "Determining the appropriate number of features to choose for a KNN (K-Nearest Neighbors) model depends on several factors, including the size of your dataset, the dimensionality of the feature space, and the complexity of the problem you are trying to solve. Remember that feature selection is not a one-time decision, and it may require an iterative process of experimentation and evaluation. Let's begin by reducing our feature space to only include 3 features. Redo Step #2 using `SelectKBest(...)` on the `x` and `y` data from Part 2.1 to select the top 3 features.\n",
        "\n",
        "<br>\n",
        "\n",
        "**NOTE**: `y` will be the same in all of Part 2."
      ]
    },
    {
      "cell_type": "code",
      "source": [
        "# Select 3 best features\n",
        "feature_selector = SelectKBest(# COMPLETE THIS LINE\n",
        "feature_selector.fit_transform(# COMPLETE THIS LINE\n",
        "best_features = happy_df[feature_selector.get_feature_names_out()]\n",
        "\n",
        "# Look at resulting DataFrame\n",
        "best_features.head()"
      ],
      "metadata": {
        "id": "90E2UMEmoI4s",
        "colab": {
          "base_uri": "https://localhost:8080/",
          "height": 133
        },
        "outputId": "08ec2809-94e6-4da5-9816-e2c06f63f30d"
      },
      "execution_count": null,
      "outputs": [
        {
          "output_type": "error",
          "ename": "SyntaxError",
          "evalue": "ignored",
          "traceback": [
            "\u001b[0;36m  File \u001b[0;32m\"<ipython-input-5-af1582a85d89>\"\u001b[0;36m, line \u001b[0;32m3\u001b[0m\n\u001b[0;31m    feature_selector.fit_transform(# COMPLETE THIS LINE\u001b[0m\n\u001b[0m                                  ^\u001b[0m\n\u001b[0;31mSyntaxError\u001b[0m\u001b[0;31m:\u001b[0m '(' was never closed\n"
          ]
        }
      ]
    },
    {
      "cell_type": "markdown",
      "metadata": {
        "id": "5Byu8rM-oI4t"
      },
      "source": [
        "#### **Step #3: Split data into training and testing data**\n",
        "\n",
        "Complete the code below to split the data, using 80% for training and 20% for testing."
      ]
    },
    {
      "cell_type": "code",
      "source": [
        "X_train, X_test, y_train, y_test = train_test_split(best_features, # COMPLETE THIS LINE"
      ],
      "metadata": {
        "id": "EsVqPp2GoI4t"
      },
      "execution_count": null,
      "outputs": []
    },
    {
      "cell_type": "markdown",
      "metadata": {
        "id": "eYgfv8YnoI4t"
      },
      "source": [
        "#### **Step #4: Import the algorithm**"
      ]
    },
    {
      "cell_type": "code",
      "source": [],
      "metadata": {
        "id": "TeJL0JwfoI4t"
      },
      "execution_count": null,
      "outputs": []
    },
    {
      "cell_type": "markdown",
      "metadata": {
        "id": "q52eDLqFSBhY"
      },
      "source": [
        "#### **Step #5: Initialize the model and set hyperparameters**\n",
        "\n",
        "Specifically,\n",
        "* For Linear Regression, there are no hyperparameters to set.\n",
        "* For KNN, choose a reasonable value for `n_neighbors`. You are encouraged to try Steps #5 - 7 for several values and picking the model with the highest performance."
      ]
    },
    {
      "cell_type": "code",
      "source": [
        "model_2 = # COMPLETE THIS LINE"
      ],
      "metadata": {
        "id": "U4ImlrFUoI4t"
      },
      "execution_count": null,
      "outputs": []
    },
    {
      "cell_type": "markdown",
      "metadata": {
        "id": "hMx19Alh4tZs"
      },
      "source": [
        "#### **Step #6: Fit your model and make a prediction.**\n",
        "\n",
        "Create a visualization if applicable.\n",
        "\n",
        "Specifically,\n",
        "\n",
        "1. Fit the model to the training data and make predictions on the test data.\n",
        "2. Visualize the results."
      ]
    },
    {
      "cell_type": "markdown",
      "source": [
        "##### **1. Fit the model to the training data.**"
      ],
      "metadata": {
        "id": "BDMrAvoW4tZt"
      }
    },
    {
      "cell_type": "code",
      "source": [
        "model_2.# COMPLETE THIS LINE TO TRAIN\n",
        "predictions = model_2.# COMPLETE THIS LINE TO PREDICT"
      ],
      "metadata": {
        "id": "km_P03RK4tZt"
      },
      "execution_count": null,
      "outputs": []
    },
    {
      "cell_type": "markdown",
      "source": [
        "##### **2. Visualize the results.**\n",
        "\n",
        "The code is provided for both linear regression and KNN, but it is up to you to decide which one makes the most sense here."
      ],
      "metadata": {
        "id": "Y14XXkms4tZt"
      }
    },
    {
      "cell_type": "markdown",
      "source": [
        "###### **Linear Regression Visualization**"
      ],
      "metadata": {
        "id": "9QstGcAK4tZt"
      }
    },
    {
      "cell_type": "code",
      "source": [
        "# Visualize comparison of predictions vs. actual values\n",
        "plt.scatter(y_test, predictions)\n",
        "plt.plot([y_test.min(), y_test.max()], [y_test.min(), y_test.max()], color = 'black', label='Correct Predictions')\n",
        "\n",
        "\n",
        "plt.xlabel('True Value')\n",
        "plt.ylabel('Predicted Value')\n",
        "plt.title('Real vs Value')\n",
        "plt.legend()\n",
        "\n",
        "plt.show()"
      ],
      "metadata": {
        "id": "ycHBLYFC4tZt"
      },
      "execution_count": null,
      "outputs": []
    },
    {
      "cell_type": "markdown",
      "source": [
        "###### **KNN Visualization**"
      ],
      "metadata": {
        "id": "KU75FZTV4tZt"
      }
    },
    {
      "cell_type": "code",
      "source": [
        "feature_1_name = 'GDP'\n",
        "feature_2_name = 'Healthy Life Expectancy'\n",
        "\n",
        "\n",
        "# Make the same scatter plot of the training data\n",
        "fig, ax = plt.subplots(figsize=(10,6))\n",
        "\n",
        "xx, yy = np.meshgrid(np.arange(happy_df[feature_1_name].min() - 0.1, happy_df[feature_1_name].max() + 0.1, 0.01),\n",
        "                     np.arange(happy_df[feature_2_name].min() - 0.1, happy_df[feature_2_name].max() + 0.1, 0.01))\n",
        "means = x.mean()\n",
        "inputs = [[x, y, means[2]] for (x, y) in np.c_[xx.ravel(), yy.ravel()]]\n",
        "z = model_2.predict(inputs)\n",
        "z = z.reshape(xx.shape)\n",
        "\n",
        "ax.pcolormesh(xx, yy, z, alpha=0.1)\n",
        "\n",
        "for label, data in happy_df.groupby('Happiness Score'):\n",
        "  ax.scatter(data[feature_1_name], data[feature_2_name], label=label)\n",
        "\n",
        "ax.set_title(\"Decision Boundary of the KNN Classifier\")\n",
        "ax.set_xlabel(feature_1_name)\n",
        "ax.set_ylabel(feature_2_name)\n",
        "ax.legend()\n",
        "plt.show()"
      ],
      "metadata": {
        "id": "KKcnHU-t4tZt"
      },
      "execution_count": null,
      "outputs": []
    },
    {
      "cell_type": "markdown",
      "metadata": {
        "id": "WyUQzTdsSWND"
      },
      "source": [
        "#### **Step #7: Evaluate the model’s performance**\n",
        "\n",
        "To complete this step, you will need to recall or find out what evaluation metrics we typically use for whichever type of model you have trained.\n",
        "\n",
        "<br>\n",
        "\n",
        "If you used KNN, you should try several values for Steps #5 - 7 and pick the model that performs highest according to these metrics."
      ]
    },
    {
      "cell_type": "code",
      "source": [],
      "metadata": {
        "id": "8gIFqECn5GKz"
      },
      "execution_count": null,
      "outputs": []
    },
    {
      "cell_type": "markdown",
      "metadata": {
        "id": "LkdTG0rOoI4u"
      },
      "source": [
        "#### **Step #8: Use the model**\n",
        "\n",
        "Specifically,\n",
        "\n",
        "1. Predict the happiness score of three countries that reported provided results for their numerical measures.\n",
        "\n",
        "2. Visualize the modeled relationship between `Happinesss Score` and `Social Support` to see if a qualitative relationship can be inferred.\n",
        "\n",
        "3. Look at the coefficients and intercept to determine the modeled relationships quantitatively."
      ]
    },
    {
      "cell_type": "markdown",
      "source": [
        "##### **1. Predict the happiness score of these countries that reported the following results for their numerical measures:**\n",
        "\n",
        "**Country 1**\n",
        "\n",
        "* `GDP`: 0.9\n",
        "* `Social Support`: 0.4\n",
        "* `Healthy Life Expectancy`: 0.8\n",
        "* `Freedom`: 0.4\n",
        "* `Corruption Perception`: 0.2\n",
        "* `Generosity`: 0.09\n",
        "* `Region Encoded`: 0\n",
        "\n",
        "<br>\n",
        "\n",
        "**Country 2**\n",
        "\n",
        "* `GDP`: 0.9\n",
        "* `Social Support`: 0.4\n",
        "* `Healthy Life Expectancy`: 0.8\n",
        "* `Freedom`: 0.4\n",
        "* `Corruption Perception`: 0.2\n",
        "* `Generosity`: 0.09\n",
        "* `Region Encoded`: 9\n",
        "\n",
        "<br>\n",
        "\n",
        "**Country 3**\n",
        "\n",
        "* `GDP`: 1.1\n",
        "* `Social Support`: 0.9\n",
        "* `Healthy Life Expectancy`: 1.01\n",
        "* `Freedom`: 0.9\n",
        "* `Corruption Perception`: 0.1\n",
        "* `Generosity`: 0.9\n",
        "* `Region Encoded`: 4\n",
        "\n",
        "\n",
        "<br>\n",
        "\n",
        "**NOTE**: Since we selected only the top 3 features, you will need to only provide these 3 values for each prediction. Looking at the columns in the X data could be helpful here."
      ],
      "metadata": {
        "id": "4uf2h5ihoI4u"
      }
    },
    {
      "cell_type": "code",
      "source": [
        "# COUNTRY 1\n",
        "new_country = pd.DataFrame([[# COMPLETE THIS LINE]], columns = X_test.columns)\n",
        "\n",
        "print(linear_model_2.predict(# COMPLETE THIS LINE"
      ],
      "metadata": {
        "id": "bKY7vgkJoI4u"
      },
      "execution_count": null,
      "outputs": []
    },
    {
      "cell_type": "code",
      "source": [
        "# COUNTRY 2\n",
        "print (model_1.predict([[0.9,0.4,0.8,0.4,0.2,0.09,9]]))"
      ],
      "metadata": {
        "id": "M2jcPQZroI4v"
      },
      "execution_count": null,
      "outputs": []
    },
    {
      "cell_type": "code",
      "source": [
        "# COUNTRY 3\n",
        "# COMPLETE THIS CODE"
      ],
      "metadata": {
        "id": "fNKdgXAKoI4v"
      },
      "execution_count": null,
      "outputs": []
    },
    {
      "cell_type": "markdown",
      "source": [
        "##### **2. Visualize the modeled relationship between `Happinesss Score` and one of the 3 features chosen to see if a qualitative relationship can be inferred.**"
      ],
      "metadata": {
        "id": "X7u4GtMToI4v"
      }
    },
    {
      "cell_type": "code",
      "source": [],
      "metadata": {
        "id": "GcEBBmR-oI4v"
      },
      "execution_count": null,
      "outputs": []
    },
    {
      "cell_type": "markdown",
      "source": [
        "##### **3. *If you used linear regression*, complete the cells below to look at the coefficients and intercept to determine the modeled relationships quantitatively.**"
      ],
      "metadata": {
        "id": "kZoN8-hwoI4w"
      }
    },
    {
      "cell_type": "code",
      "source": [
        "coefficients = model_2.# COMPLETE THIS LINE\n",
        "intercept = model_2.# COMPLETE THIS LINE\n",
        "\n",
        "coefficients = pd.DataFrame([coefficients], columns = X_test.columns)\n",
        "intercept = pd.DataFrame([intercept], columns = [\"Happiness Score\"])"
      ],
      "metadata": {
        "id": "s1pBM4KooI4w"
      },
      "execution_count": null,
      "outputs": []
    },
    {
      "cell_type": "code",
      "source": [
        "print(\"Coefficients:\")\n",
        "coefficients.head()"
      ],
      "metadata": {
        "id": "OjgGVP8VoI4w"
      },
      "execution_count": null,
      "outputs": []
    },
    {
      "cell_type": "code",
      "source": [
        "print(\"\\nIntercept:\")\n",
        "intercept.head()"
      ],
      "metadata": {
        "id": "khefYBQroI4w"
      },
      "execution_count": null,
      "outputs": []
    },
    {
      "cell_type": "markdown",
      "source": [
        "#### **Reflection Questions**\n",
        "\n",
        "Now that you have trained several models to accomplish this task, answer the following questions:\n",
        "\n",
        "1. Were there any hyperparameters you need to tune and, if so, what were the best values you found?\n",
        "2. Did selecting a smaller number of features improve or decrease the performance of your model?\n",
        "3. What 3 variables seem to play the largest role in determining `Happiness Score` based on your work in this part?"
      ],
      "metadata": {
        "id": "j3uA4BEp5qgI"
      }
    },
    {
      "cell_type": "markdown",
      "metadata": {
        "id": "EJMMjh4tE5GX"
      },
      "source": [
        "<a name=\"p3\"></a>\n",
        "\n",
        "---\n",
        "## **Part 3: Predicting Region**\n",
        "---\n",
        "\n",
        "Now you will create, evaluate, and train a machine learning model to predict the region of a country based on the provided numerical features. It is up to you to determine if you should be using Linear Regression or KNN here.\n",
        "\n",
        "<br>\n",
        "\n",
        "You will do this two times as follows:\n",
        "\n",
        "**Part 3.1**: Using All Numerical Features\n",
        "\n",
        "**Part 3.2**: Using the 3 Best Numerical Features\n"
      ]
    },
    {
      "cell_type": "markdown",
      "source": [
        "<a name=\"p31\"></a>\n",
        "\n",
        "---\n",
        "### **Part 3.1:** Using All Numerical Features\n",
        "---"
      ],
      "metadata": {
        "id": "i0fyIQD9E5GY"
      }
    },
    {
      "cell_type": "markdown",
      "source": [
        "#### **Step #1: Load in the data**\n",
        "\n",
        "This step was completed in Part 1!"
      ],
      "metadata": {
        "id": "mdj0b1848XHa"
      }
    },
    {
      "cell_type": "markdown",
      "metadata": {
        "id": "D9CMuXQAE5GY"
      },
      "source": [
        "#### **Step #2: Decide independent and dependent variables**\n",
        "\n",
        "Complete the code below to decide the independent and dependent variables.\n",
        "\n",
        "<br>\n",
        "\n",
        "**NOTE**: The dependent variable (label) for all of Part 3 is `Region Encoded`. Using one of several pandas functions, you can determine the numerical features available and use them all as the independent variables."
      ]
    },
    {
      "cell_type": "code",
      "source": [
        "happy_df.# COMPLETE THIS LINE"
      ],
      "metadata": {
        "id": "99NDwBqkE5GY"
      },
      "execution_count": null,
      "outputs": []
    },
    {
      "cell_type": "code",
      "source": [
        "x = # COMPLETE THIS LINE\n",
        "y = # COMPLETE THIS LINE"
      ],
      "metadata": {
        "id": "NZGLpbP6E5GY"
      },
      "execution_count": null,
      "outputs": []
    },
    {
      "cell_type": "markdown",
      "metadata": {
        "id": "djC1sj3oE5GZ"
      },
      "source": [
        "#### **Step #3: Split data into training and testing data**\n",
        "\n",
        "Complete the code below to split the data, using 80% for training and 20% for testing."
      ]
    },
    {
      "cell_type": "code",
      "source": [
        "X_train, X_test, y_train, y_test = train_test_split(# COMPLETE THIS LINE"
      ],
      "metadata": {
        "id": "r3YE1P5PE5GZ"
      },
      "execution_count": null,
      "outputs": []
    },
    {
      "cell_type": "markdown",
      "metadata": {
        "id": "KWsq7ReOE5GZ"
      },
      "source": [
        "#### **Step #4: Import the algorithm**"
      ]
    },
    {
      "cell_type": "code",
      "source": [],
      "metadata": {
        "id": "F3PaG1FzE5GZ"
      },
      "execution_count": null,
      "outputs": []
    },
    {
      "cell_type": "markdown",
      "metadata": {
        "id": "XGNNOAncSEDM"
      },
      "source": [
        "#### **Step #5: Initialize the model and set hyperparameters**\n",
        "\n",
        "Specifically,\n",
        "* For Linear Regression, there are no hyperparameters to set.\n",
        "* For KNN, choose a reasonable value for `n_neighbors`. You are encouraged to try Steps #5 - 7 for several values and picking the model with the highest performance."
      ]
    },
    {
      "cell_type": "code",
      "source": [
        "model_1 = # COMPLETE THIS LINE"
      ],
      "metadata": {
        "id": "r3xju1miE5GZ"
      },
      "execution_count": null,
      "outputs": []
    },
    {
      "cell_type": "markdown",
      "metadata": {
        "id": "9nk_tLXnE5GZ"
      },
      "source": [
        "#### **Step #6: Fit your model and make a prediction.**\n",
        "\n",
        "Create a visualization if applicable.\n",
        "\n",
        "Specifically,\n",
        "\n",
        "1. Fit the model to the training data and make predictions on the test data.\n",
        "2. Visualize the results."
      ]
    },
    {
      "cell_type": "markdown",
      "source": [
        "##### **1. Fit the model to the training data.**"
      ],
      "metadata": {
        "id": "GaunVzj4E5GZ"
      }
    },
    {
      "cell_type": "code",
      "source": [
        "model_1.# COMPLETE THIS LINE TO TRAIN\n",
        "predictions = model_1.# COMPLETE THIS LINE TO PREDICT"
      ],
      "metadata": {
        "id": "6H04Op7QE5GZ"
      },
      "execution_count": null,
      "outputs": []
    },
    {
      "cell_type": "markdown",
      "source": [
        "##### **2. Visualize the results.**\n",
        "\n",
        "The code is provided for both linear regression and KNN, but it is up to you to decide which one makes the most sense here."
      ],
      "metadata": {
        "id": "ei8qXhfUE5GZ"
      }
    },
    {
      "cell_type": "markdown",
      "source": [
        "###### **Linear Regression Visualization**"
      ],
      "metadata": {
        "id": "Z0uReehGE5GZ"
      }
    },
    {
      "cell_type": "code",
      "source": [
        "# Visualize comparison of predictions vs. actual values\n",
        "plt.scatter(y_test, predictions)\n",
        "plt.plot([y_test.min(), y_test.max()], [y_test.min(), y_test.max()], color = 'black', label='Correct Predictions')\n",
        "\n",
        "\n",
        "plt.xlabel('True Value')\n",
        "plt.ylabel('Predicted Value')\n",
        "plt.title('Real vs Value')\n",
        "plt.legend()\n",
        "\n",
        "plt.show()"
      ],
      "metadata": {
        "id": "1EomRElbE5GZ"
      },
      "execution_count": null,
      "outputs": []
    },
    {
      "cell_type": "markdown",
      "source": [
        "###### **KNN Visualization**"
      ],
      "metadata": {
        "id": "aD9TwOaPE5GZ"
      }
    },
    {
      "cell_type": "code",
      "source": [
        "feature_1_name = 'GDP'\n",
        "feature_2_name = 'Healthy Life Expectancy'\n",
        "\n",
        "\n",
        "# Make the same scatter plot of the training data\n",
        "fig, ax = plt.subplots(figsize=(10,6))\n",
        "\n",
        "xx, yy = np.meshgrid(np.arange(happy_df[feature_1_name].min() - 0.1, happy_df[feature_1_name].max() + 0.1, 0.01),\n",
        "                     np.arange(happy_df[feature_2_name].min() - 0.1, happy_df[feature_2_name].max() + 0.1, 0.01))\n",
        "means = x.mean()\n",
        "inputs = [[means[0], x, means[2], y, means[4], means[5], means[6]] for (x, y) in np.c_[xx.ravel(), yy.ravel()]]\n",
        "z = model_1.predict(inputs)\n",
        "z = z.reshape(xx.shape)\n",
        "\n",
        "ax.pcolormesh(xx, yy, z, alpha=0.1)\n",
        "\n",
        "for label, data in happy_df.groupby('Region'):\n",
        "  ax.scatter(data[feature_1_name], data[feature_2_name], label=label)\n",
        "\n",
        "ax.set_title(\"Decision Boundary of the KNN Classifier\")\n",
        "ax.set_xlabel(feature_1_name)\n",
        "ax.set_ylabel(feature_2_name)\n",
        "ax.legend()\n",
        "plt.show()"
      ],
      "metadata": {
        "id": "EBOzFa8pE5GZ"
      },
      "execution_count": null,
      "outputs": []
    },
    {
      "cell_type": "markdown",
      "metadata": {
        "id": "wdbPdS_BSXpY"
      },
      "source": [
        "#### **Step #7: Evaluate the model’s performance**\n",
        "\n",
        "To complete this step, you will need to recall or find out what evaluation metrics we typically use for whichever type of model you have trained.\n",
        "\n",
        "<br>\n",
        "\n",
        "If you used KNN, you should try several values for Steps #5 - 7 and pick the model that performs highest according to these metrics."
      ]
    },
    {
      "cell_type": "code",
      "source": [],
      "metadata": {
        "id": "Npy8lq_6E5Ga"
      },
      "execution_count": null,
      "outputs": []
    },
    {
      "cell_type": "markdown",
      "metadata": {
        "id": "6dbGqSTJE5Ga"
      },
      "source": [
        "#### **Step #8: Use the model**\n",
        "\n",
        "Specifically,\n",
        "\n",
        "1. Predict the region of three countries that reported provided results for their numerical measures.\n",
        "\n",
        "2. Visualize the modeled relationship between `Happinesss Score` and `Social Support` to see if a qualitative relationship can be inferred.\n",
        "\n",
        "3. *If you used linear regression*, look at the coefficients and intercept to determine the modeled relationships quantitatively."
      ]
    },
    {
      "cell_type": "markdown",
      "source": [
        "##### **1. Predict the region of these countries that reported the following results for their numerical measures:**\n",
        "\n",
        "**Country 1**\n",
        "\n",
        "* `Happiness Score`: 2.3\n",
        "* `GDP`: 0.9\n",
        "* `Social Support`: 0.4\n",
        "* `Healthy Life Expectancy`: 0.8\n",
        "* `Freedom`: 0.4\n",
        "* `Corruption Perception`: 0.2\n",
        "* `Generosity`: 0.09\n",
        "\n",
        "<br>\n",
        "\n",
        "**Country 2**\n",
        "\n",
        "* `Happiness Score`: 7.8\n",
        "* `GDP`: 0.9\n",
        "* `Social Support`: 0.4\n",
        "* `Healthy Life Expectancy`: 0.8\n",
        "* `Freedom`: 0.4\n",
        "* `Corruption Perception`: 0.2\n",
        "* `Generosity`: 0.09\n",
        "\n",
        "<br>\n",
        "\n",
        "**Country 3**\n",
        "\n",
        "* `Happiness Score`: 4.5\n",
        "* `GDP`: 1.1\n",
        "* `Social Support`: 0.9\n",
        "* `Healthy Life Expectancy`: 1.01\n",
        "* `Freedom`: 0.9\n",
        "* `Corruption Perception`: 1.1\n",
        "* `Generosity`: 0.9"
      ],
      "metadata": {
        "id": "bku6k9_wE5Ga"
      }
    },
    {
      "cell_type": "code",
      "source": [
        "# COUNTRY 1\n",
        "new_country = pd.DataFrame([[# COMPLETE THIS LINE]], columns = X_test.columns)\n",
        "\n",
        "region = model_1.predict(# COMPLETE THIS LINE\n",
        "print(happy_df['Region'].unique()[region[0]])"
      ],
      "metadata": {
        "id": "57oSrPsOE5Ga"
      },
      "execution_count": null,
      "outputs": []
    },
    {
      "cell_type": "code",
      "source": [
        "# COUNTRY 2\n",
        "# COMPLETE THIS CODE"
      ],
      "metadata": {
        "id": "bBZisTMME5Ga"
      },
      "execution_count": null,
      "outputs": []
    },
    {
      "cell_type": "code",
      "source": [
        "# COUNTRY 3\n",
        "# COMPLETE THIS CODE"
      ],
      "metadata": {
        "id": "LuoaErMNE5Ga"
      },
      "execution_count": null,
      "outputs": []
    },
    {
      "cell_type": "markdown",
      "source": [
        "##### **2. Visualize the modeled relationship between `Region` and `Healthy Life Expectancy` to see if a qualitative relationship can be inferred.**"
      ],
      "metadata": {
        "id": "an3S5LktE5Ga"
      }
    },
    {
      "cell_type": "code",
      "source": [
        "# COMPLETE THIS CODE\n",
        "\n",
        "plt.yticks(ticks = range(10), labels = happy_df['Region'].unique())\n",
        "\n",
        "plt.show()"
      ],
      "metadata": {
        "id": "96zinD1XE5Ga"
      },
      "execution_count": null,
      "outputs": []
    },
    {
      "cell_type": "markdown",
      "source": [
        "##### **3. *If you used linear regression*, complete the cells below to look at the coefficients and intercept to determine the modeled relationships quantitatively.**"
      ],
      "metadata": {
        "id": "ZaPbThUnE5Ga"
      }
    },
    {
      "cell_type": "code",
      "source": [
        "coefficients = model_1.# COMPLETE THIS LINE\n",
        "intercept = model_1.# COMPLETE THIS LINE\n",
        "\n",
        "coefficients = pd.DataFrame([coefficients], columns = X_test.columns)\n",
        "intercept = pd.DataFrame([intercept], columns = [\"Happiness Score\"])"
      ],
      "metadata": {
        "id": "m4dmh6wpE5Ga"
      },
      "execution_count": null,
      "outputs": []
    },
    {
      "cell_type": "code",
      "source": [
        "print(\"Coefficients:\")\n",
        "coefficients.head()"
      ],
      "metadata": {
        "id": "Jm9zzcEPE5Ga"
      },
      "execution_count": null,
      "outputs": []
    },
    {
      "cell_type": "code",
      "source": [
        "print(\"\\nIntercept:\")\n",
        "intercept.head()"
      ],
      "metadata": {
        "id": "dTES_SghE5Ga"
      },
      "execution_count": null,
      "outputs": []
    },
    {
      "cell_type": "markdown",
      "source": [
        "<a name=\"p32\"></a>\n",
        "\n",
        "---\n",
        "### **Part 3.2: Using the 2 Best Numerical Features**\n",
        "---"
      ],
      "metadata": {
        "id": "BxdlnZ9iE5Gb"
      }
    },
    {
      "cell_type": "markdown",
      "source": [
        "#### **Step #1: Load your data**\n",
        "\n",
        "This step was already done previously."
      ],
      "metadata": {
        "id": "dV130a77KU8L"
      }
    },
    {
      "cell_type": "markdown",
      "metadata": {
        "id": "jZ9_kHbOE5Gb"
      },
      "source": [
        "#### **Step #2: Decide independent and dependent variables**\n",
        "\n",
        "Redo Step #2 using `SelectKBest(...)` on the `x` and `y` data from Part 3.1 to select the top 2 features.\n",
        "\n",
        "<br>\n",
        "\n",
        "**NOTE**: `y` will be the same in all of Part 3."
      ]
    },
    {
      "cell_type": "code",
      "source": [
        "# Select 3 best features\n",
        "feature_selector = SelectKBest(# COMPLETE THIS LINE\n",
        "feature_selector.fit_transform(# COMPLETE THIS LINE\n",
        "best_features = happy_df[feature_selector.get_feature_names_out()]\n",
        "\n",
        "# Look at resulting DataFrame\n",
        "best_features.head()"
      ],
      "metadata": {
        "id": "kJ4wr8ZrE5Gb"
      },
      "execution_count": null,
      "outputs": []
    },
    {
      "cell_type": "markdown",
      "metadata": {
        "id": "nuCRbGKnE5Gb"
      },
      "source": [
        "#### **Step #3: Split data into training and testing data**\n",
        "\n",
        "Complete the code below to split the data, using 80% for training and 20% for testing."
      ]
    },
    {
      "cell_type": "code",
      "source": [
        "X_train, X_test, y_train, y_test = train_test_split(best_features, # COMPLETE THIS LINE"
      ],
      "metadata": {
        "id": "cbKDQlNwE5Gb"
      },
      "execution_count": null,
      "outputs": []
    },
    {
      "cell_type": "markdown",
      "metadata": {
        "id": "ZoF6MutCKgtR"
      },
      "source": [
        "#### **Step #4: Import the algorithm**"
      ]
    },
    {
      "cell_type": "code",
      "source": [],
      "metadata": {
        "id": "uHph5lXCKgtR"
      },
      "execution_count": null,
      "outputs": []
    },
    {
      "cell_type": "markdown",
      "metadata": {
        "id": "FpdqzlZeSGC7"
      },
      "source": [
        "#### **Step #5: Initialize the model and set hyperparameters**\n",
        "\n",
        "Specifically,\n",
        "* For Linear Regression, there are no hyperparameters to set.\n",
        "* For KNN, choose a reasonable value for `n_neighbors`. You are encouraged to try Steps #5 - 7 for several values and picking the model with the highest performance."
      ]
    },
    {
      "cell_type": "code",
      "source": [
        "model_2 = # COMPLETE THIS LINE"
      ],
      "metadata": {
        "id": "PTAql5jlKgtR"
      },
      "execution_count": null,
      "outputs": []
    },
    {
      "cell_type": "markdown",
      "metadata": {
        "id": "rj_z82LaKgtR"
      },
      "source": [
        "#### **Step #6: Fit your model and make a prediction. Create a visualization if applicable**\n",
        "\n",
        "Specifically,\n",
        "\n",
        "1. Fit the model to the training data and make predictions on the test data.\n",
        "2. Visualize the results."
      ]
    },
    {
      "cell_type": "markdown",
      "source": [
        "##### **1. Fit the model to the training data.**"
      ],
      "metadata": {
        "id": "54MAdOgGKgtR"
      }
    },
    {
      "cell_type": "code",
      "source": [
        "model_2.# COMPLETE THIS LINE TO TRAIN\n",
        "predictions = model_2.# COMPLETE THIS LINE TO PREDICT"
      ],
      "metadata": {
        "id": "IhboxB7TKgtR"
      },
      "execution_count": null,
      "outputs": []
    },
    {
      "cell_type": "markdown",
      "source": [
        "##### **2. Visualize the results.**\n",
        "\n",
        "The code is provided for both linear regression and KNN, but it is up to you to decide which one makes the most sense here."
      ],
      "metadata": {
        "id": "6zengvEPKgtS"
      }
    },
    {
      "cell_type": "markdown",
      "source": [
        "###### **Linear Regression Visualization**"
      ],
      "metadata": {
        "id": "rC6KgbDPKgtS"
      }
    },
    {
      "cell_type": "code",
      "source": [
        "# Visualize comparison of predictions vs. actual values\n",
        "plt.scatter(y_test, predictions)\n",
        "plt.plot([y_test.min(), y_test.max()], [y_test.min(), y_test.max()], color = 'black', label='Correct Predictions')\n",
        "\n",
        "\n",
        "plt.xlabel('True Value')\n",
        "plt.ylabel('Predicted Value')\n",
        "plt.title('Real vs Value')\n",
        "plt.legend()\n",
        "\n",
        "plt.show()"
      ],
      "metadata": {
        "id": "f8mQ5YdDKgtS"
      },
      "execution_count": null,
      "outputs": []
    },
    {
      "cell_type": "markdown",
      "source": [
        "###### **KNN Visualization**"
      ],
      "metadata": {
        "id": "D4T40kbOKgtS"
      }
    },
    {
      "cell_type": "code",
      "source": [
        "labels = happy_df['Region'].unique()\n",
        "feature_1_name = 'GDP'\n",
        "feature_2_name = 'Healthy Life Expectancy'\n",
        "\n",
        "\n",
        "# Make the same scatter plot of the training data\n",
        "fig, ax = plt.subplots(figsize=(10,6))\n",
        "\n",
        "xx, yy = np.meshgrid(np.arange(happy_df[feature_1_name].min() - 0.1, happy_df[feature_1_name].max() + 0.1, 0.01),\n",
        "                     np.arange(happy_df[feature_2_name].min() - 0.1, happy_df[feature_2_name].max() + 0.1, 0.01))\n",
        "z = model_2.predict(np.c_[xx.ravel(), yy.ravel()])\n",
        "z = z.reshape(xx.shape)\n",
        "\n",
        "ax.pcolormesh(xx, yy, z, alpha=0.1)\n",
        "\n",
        "for label, data in happy_df.groupby('Region'):\n",
        "  ax.scatter(data[feature_1_name], data[feature_2_name], label=label)\n",
        "\n",
        "ax.set_title(\"Decision Boundary of the KNN Classifier\")\n",
        "ax.set_xlabel(feature_1_name)\n",
        "ax.set_ylabel(feature_2_name)\n",
        "ax.legend()\n",
        "plt.show()"
      ],
      "metadata": {
        "id": "hS7yC4FXKgtS"
      },
      "execution_count": null,
      "outputs": []
    },
    {
      "cell_type": "markdown",
      "metadata": {
        "id": "dKfkcxpVSY-G"
      },
      "source": [
        "#### **Step #7: Evaluate the model's performance**\n",
        "\n",
        "To complete this step, you will need to recall or find out what evaluation metrics we typically use for whichever type of model you have trained.\n",
        "\n",
        "<br>\n",
        "\n",
        "If you used KNN, you should try several values for Steps #5 - 7 and pick the model that performs highest according to these metrics."
      ]
    },
    {
      "cell_type": "code",
      "source": [],
      "metadata": {
        "id": "VIwVyyIhKgtS"
      },
      "execution_count": null,
      "outputs": []
    },
    {
      "cell_type": "markdown",
      "metadata": {
        "id": "85CBoOvZKgtS"
      },
      "source": [
        "#### **Step #8: Use the model**\n",
        "\n",
        "Specifically,\n",
        "\n",
        "1. Predict the region of three countries that reported provided results for their numerical measures.\n",
        "\n",
        "2. Visualize the modeled relationship between `Happinesss Score` and `Social Support` to see if a qualitative relationship can be inferred.\n",
        "\n",
        "3. *If you used linear regression*, look at the coefficients and intercept to determine the modeled relationships quantitatively."
      ]
    },
    {
      "cell_type": "markdown",
      "source": [
        "##### **1. Predict the region of these countries that reported the following results for their numerical measures:**\n",
        "\n",
        "**Country 1**\n",
        "\n",
        "* `Happiness Score`: 2.3\n",
        "* `GDP`: 0.9\n",
        "* `Social Support`: 0.4\n",
        "* `Healthy Life Expectancy`: 0.8\n",
        "* `Freedom`: 0.4\n",
        "* `Corruption Perception`: 0.2\n",
        "* `Generosity`: 0.09\n",
        "\n",
        "<br>\n",
        "\n",
        "**Country 2**\n",
        "\n",
        "* `Happiness Score`: 7.8\n",
        "* `GDP`: 0.9\n",
        "* `Social Support`: 0.4\n",
        "* `Healthy Life Expectancy`: 0.8\n",
        "* `Freedom`: 0.4\n",
        "* `Corruption Perception`: 0.2\n",
        "* `Generosity`: 0.09\n",
        "\n",
        "<br>\n",
        "\n",
        "**Country 3**\n",
        "\n",
        "* `Happiness Score`: 4.5\n",
        "* `GDP`: 1.1\n",
        "* `Social Support`: 0.9\n",
        "* `Healthy Life Expectancy`: 1.01\n",
        "* `Freedom`: 0.9\n",
        "* `Corruption Perception`: 1.1\n",
        "* `Generosity`: 0.9\n",
        "\n",
        "<br>\n",
        "\n",
        "**NOTE**: Since we selected only the top 2 features, you will need to only provide these 2 values for each prediction. Looking at the columns in the X data could be helpful here."
      ],
      "metadata": {
        "id": "Gpm6o6KYKgtS"
      }
    },
    {
      "cell_type": "code",
      "source": [
        "# COUNTRY 1\n",
        "new_country = pd.DataFrame([[# COMPLETE THIS LINE]], columns = X_test.columns)\n",
        "\n",
        "region = model_2.predict(# COMPLETE THIS LINE\n",
        "print(happy_df['Region'].unique()[region[0]])"
      ],
      "metadata": {
        "id": "Ar7qsFovKgtS"
      },
      "execution_count": null,
      "outputs": []
    },
    {
      "cell_type": "code",
      "source": [
        "# COUNTRY 2\n",
        "# COMPLETE THIS CODE"
      ],
      "metadata": {
        "id": "kr4_fWHvKgtS"
      },
      "execution_count": null,
      "outputs": []
    },
    {
      "cell_type": "code",
      "source": [
        "# COUNTRY 3\n",
        "# COMPLETE THIS CODE"
      ],
      "metadata": {
        "id": "Ba0dMw20KgtS"
      },
      "execution_count": null,
      "outputs": []
    },
    {
      "cell_type": "markdown",
      "source": [
        "##### **2. Visualize the modeled relationship between `Region` and `Healthy Life Expectancy` to see if a qualitative relationship can be inferred.**"
      ],
      "metadata": {
        "id": "Mh8BKsj7KgtT"
      }
    },
    {
      "cell_type": "code",
      "source": [
        "# COMPLETE THIS CODE\n",
        "\n",
        "plt.yticks(ticks = range(10), labels = happy_df['Region'].unique())\n",
        "\n",
        "plt.show()"
      ],
      "metadata": {
        "id": "0S-OVEKyKgtT"
      },
      "execution_count": null,
      "outputs": []
    },
    {
      "cell_type": "markdown",
      "source": [
        "##### **3. *If you used linear regression*, complete the cells below to look at the coefficients and intercept to determine the modeled relationships quantitatively.**"
      ],
      "metadata": {
        "id": "fMFcejH4KgtT"
      }
    },
    {
      "cell_type": "code",
      "source": [
        "coefficients = model_1.# COMPLETE THIS LINE\n",
        "intercept = model_1.# COMPLETE THIS LINE\n",
        "\n",
        "coefficients = pd.DataFrame([coefficients], columns = X_test.columns)\n",
        "intercept = pd.DataFrame([intercept], columns = [\"Happiness Score\"])"
      ],
      "metadata": {
        "id": "bUjlVAJWKgtT"
      },
      "execution_count": null,
      "outputs": []
    },
    {
      "cell_type": "code",
      "source": [
        "print(\"Coefficients:\")\n",
        "coefficients.head()"
      ],
      "metadata": {
        "id": "hPJpVIeSKgtT"
      },
      "execution_count": null,
      "outputs": []
    },
    {
      "cell_type": "code",
      "source": [
        "print(\"\\nIntercept:\")\n",
        "intercept.head()"
      ],
      "metadata": {
        "id": "Nz0kG99FKgtT"
      },
      "execution_count": null,
      "outputs": []
    },
    {
      "cell_type": "markdown",
      "source": [
        "#### **Reflection Questions**\n",
        "\n",
        "Now that you have trained several models to accomplish this task, answer the following questions:\n",
        "\n",
        "1. Is Linear Regression or KNN better suited to this task? Why?\n",
        "2. Were there any hyperparameters you need to tune and, if so, what were the best values you found?\n",
        "3. Did selecting a smaller number of features improve or decrease the performance of your model?\n",
        "4. What 2 variables seem to play the largest role in determining `Region Encoded` based on your work in this part?"
      ],
      "metadata": {
        "id": "f99CjA0aE5Gd"
      }
    },
    {
      "cell_type": "markdown",
      "source": [
        "# Congratulations, you have completed your first full Machine Learning Project!\n",
        "\n",
        "---\n",
        "© 2023 The Coding School, All rights reserved"
      ],
      "metadata": {
        "id": "Q6JQKCHn3Fmj"
      }
    }
  ],
  "metadata": {
    "colab": {
      "provenance": [],
      "include_colab_link": true
    },
    "kernelspec": {
      "display_name": "Python 3 (ipykernel)",
      "language": "python",
      "name": "python3"
    },
    "language_info": {
      "codemirror_mode": {
        "name": "ipython",
        "version": 3
      },
      "file_extension": ".py",
      "mimetype": "text/x-python",
      "name": "python",
      "nbconvert_exporter": "python",
      "pygments_lexer": "ipython3",
      "version": "3.9.7"
    }
  },
  "nbformat": 4,
  "nbformat_minor": 0
}